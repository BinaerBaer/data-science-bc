{
 "cells": [
  {
   "cell_type": "markdown",
   "metadata": {},
   "source": [
    "# Logistic Regression - Exercise"
   ]
  },
  {
   "cell_type": "markdown",
   "metadata": {},
   "source": [
    "## Data Dictionary "
   ]
  },
  {
   "cell_type": "code",
   "execution_count": 2,
   "metadata": {
    "ExecuteTime": {
     "end_time": "2020-03-12T10:57:30.893992Z",
     "start_time": "2020-03-12T10:57:30.887645Z"
    }
   },
   "outputs": [],
   "source": [
    "# Please import kid.csv, you'll find it in the data folder"
   ]
  },
  {
   "cell_type": "markdown",
   "metadata": {},
   "source": [
    "Here are the variables that magazine reseller has on each customer from third-party sources:\n",
    "Household Income (Income; rounded to the nearest $1,000.00)\n",
    "\n",
    "Gender (IsFemale = 1 if the person is female, 0 otherwise)\n",
    "\n",
    "Marital Status (IsMarried = 1 if married, 0 otherwise)\n",
    "\n",
    "College Educated (HasCollege = 1 if has one or more years of college education, 0 otherwise)\n",
    "\n",
    "Employed in a Profession (IsProfessional = 1 if employed in a profession, 0 otherwise)\n",
    "\n",
    "Retired (IsRetired = 1 if retired, 0 otherwise)\n",
    "\n",
    "Not employed (Unemployed = 1 if not employed, 0 otherwise)\n",
    "\n",
    "Length of Residency in Current City (ResLength; in years)\n",
    "\n",
    "Dual Income if Married (Dual = 1 if dual income, 0 otherwise)\n",
    "\n",
    "Children (Minors = 1 if children under 18 are in the household, 0 otherwise)\n",
    "\n",
    "Home ownership (Own = 1 if own residence, 0 otherwise)\n",
    "\n",
    "Resident type (House = 1 if the residence is a single-family house, 0 otherwise)\n",
    "\n",
    "Race (White = 1 if the race is white, 0 otherwise)\n",
    "\n",
    "Language (English = 1 is the primary language in the household is English, 0 otherwise)\n",
    "\n",
    "With this dataset, we will be building a binary classification model which will take above inputs as features and predict if the customer will buy the magazine or not. At last, we’ll evaluate our model using the confusion matrix."
   ]
  },
  {
   "cell_type": "code",
   "execution_count": 3,
   "metadata": {
    "ExecuteTime": {
     "end_time": "2020-03-12T10:57:31.887229Z",
     "start_time": "2020-03-12T10:57:30.897877Z"
    }
   },
   "outputs": [],
   "source": [
    "import numpy as np\n",
    "import pandas as pd\n",
    "import seaborn as sns\n",
    "import matplotlib.pyplot as plt\n",
    "import sklearn\n",
    "\n",
    "from pandas import Series, DataFrame\n",
    "from pylab import rcParams\n",
    "from sklearn import preprocessing\n",
    "from sklearn.linear_model import LogisticRegression\n",
    "from sklearn.model_selection import train_test_split\n",
    "from sklearn import metrics \n",
    "from sklearn.metrics import classification_report"
   ]
  },
  {
   "cell_type": "code",
   "execution_count": 4,
   "metadata": {
    "ExecuteTime": {
     "end_time": "2020-03-12T11:41:10.653749Z",
     "start_time": "2020-03-12T11:41:10.641978Z"
    }
   },
   "outputs": [
    {
     "name": "stderr",
     "output_type": "stream",
     "text": [
      "/Users/bendixhass/opt/anaconda3/envs/nf/lib/python3.6/_collections_abc.py:705: MatplotlibDeprecationWarning: \n",
      "The examples.directory rcparam was deprecated in Matplotlib 3.0 and will be removed in 3.2. In the future, examples will be found relative to the 'datapath' directory.\n",
      "  return '{0.__class__.__name__}({0._mapping!r})'.format(self)\n"
     ]
    },
    {
     "data": {
      "text/plain": [
       "KeysView(RcParams({'_internal.classic_mode': False,\n",
       "          'agg.path.chunksize': 0,\n",
       "          'animation.avconv_args': [],\n",
       "          'animation.avconv_path': 'avconv',\n",
       "          'animation.bitrate': -1,\n",
       "          'animation.codec': 'h264',\n",
       "          'animation.convert_args': [],\n",
       "          'animation.convert_path': 'convert',\n",
       "          'animation.embed_limit': 20.0,\n",
       "          'animation.ffmpeg_args': [],\n",
       "          'animation.ffmpeg_path': 'ffmpeg',\n",
       "          'animation.frame_format': 'png',\n",
       "          'animation.html': 'none',\n",
       "          'animation.html_args': [],\n",
       "          'animation.writer': 'ffmpeg',\n",
       "          'axes.autolimit_mode': 'data',\n",
       "          'axes.axisbelow': 'line',\n",
       "          'axes.edgecolor': 'black',\n",
       "          'axes.facecolor': 'white',\n",
       "          'axes.formatter.limits': [-7, 7],\n",
       "          'axes.formatter.min_exponent': 0,\n",
       "          'axes.formatter.offset_threshold': 4,\n",
       "          'axes.formatter.use_locale': False,\n",
       "          'axes.formatter.use_mathtext': False,\n",
       "          'axes.formatter.useoffset': True,\n",
       "          'axes.grid': False,\n",
       "          'axes.grid.axis': 'both',\n",
       "          'axes.grid.which': 'major',\n",
       "          'axes.labelcolor': 'black',\n",
       "          'axes.labelpad': 4.0,\n",
       "          'axes.labelsize': 'medium',\n",
       "          'axes.labelweight': 'normal',\n",
       "          'axes.linewidth': 0.8,\n",
       "          'axes.prop_cycle': cycler('color', ['#1f77b4', '#ff7f0e', '#2ca02c', '#d62728', '#9467bd', '#8c564b', '#e377c2', '#7f7f7f', '#bcbd22', '#17becf']),\n",
       "          'axes.spines.bottom': True,\n",
       "          'axes.spines.left': True,\n",
       "          'axes.spines.right': True,\n",
       "          'axes.spines.top': True,\n",
       "          'axes.titlepad': 6.0,\n",
       "          'axes.titlesize': 'large',\n",
       "          'axes.titleweight': 'normal',\n",
       "          'axes.unicode_minus': True,\n",
       "          'axes.xmargin': 0.05,\n",
       "          'axes.ymargin': 0.05,\n",
       "          'axes3d.grid': True,\n",
       "          'backend': 'module://ipykernel.pylab.backend_inline',\n",
       "          'backend_fallback': True,\n",
       "          'boxplot.bootstrap': None,\n",
       "          'boxplot.boxprops.color': 'black',\n",
       "          'boxplot.boxprops.linestyle': '-',\n",
       "          'boxplot.boxprops.linewidth': 1.0,\n",
       "          'boxplot.capprops.color': 'black',\n",
       "          'boxplot.capprops.linestyle': '-',\n",
       "          'boxplot.capprops.linewidth': 1.0,\n",
       "          'boxplot.flierprops.color': 'black',\n",
       "          'boxplot.flierprops.linestyle': 'none',\n",
       "          'boxplot.flierprops.linewidth': 1.0,\n",
       "          'boxplot.flierprops.marker': 'o',\n",
       "          'boxplot.flierprops.markeredgecolor': 'black',\n",
       "          'boxplot.flierprops.markeredgewidth': 1.0,\n",
       "          'boxplot.flierprops.markerfacecolor': 'none',\n",
       "          'boxplot.flierprops.markersize': 6.0,\n",
       "          'boxplot.meanline': False,\n",
       "          'boxplot.meanprops.color': 'C2',\n",
       "          'boxplot.meanprops.linestyle': '--',\n",
       "          'boxplot.meanprops.linewidth': 1.0,\n",
       "          'boxplot.meanprops.marker': '^',\n",
       "          'boxplot.meanprops.markeredgecolor': 'C2',\n",
       "          'boxplot.meanprops.markerfacecolor': 'C2',\n",
       "          'boxplot.meanprops.markersize': 6.0,\n",
       "          'boxplot.medianprops.color': 'C1',\n",
       "          'boxplot.medianprops.linestyle': '-',\n",
       "          'boxplot.medianprops.linewidth': 1.0,\n",
       "          'boxplot.notch': False,\n",
       "          'boxplot.patchartist': False,\n",
       "          'boxplot.showbox': True,\n",
       "          'boxplot.showcaps': True,\n",
       "          'boxplot.showfliers': True,\n",
       "          'boxplot.showmeans': False,\n",
       "          'boxplot.vertical': True,\n",
       "          'boxplot.whiskerprops.color': 'black',\n",
       "          'boxplot.whiskerprops.linestyle': '-',\n",
       "          'boxplot.whiskerprops.linewidth': 1.0,\n",
       "          'boxplot.whiskers': 1.5,\n",
       "          'contour.corner_mask': True,\n",
       "          'contour.negative_linestyle': 'dashed',\n",
       "          'datapath': '/Users/bendixhass/opt/anaconda3/envs/nf/lib/python3.6/site-packages/matplotlib/mpl-data',\n",
       "          'date.autoformatter.day': '%Y-%m-%d',\n",
       "          'date.autoformatter.hour': '%m-%d %H',\n",
       "          'date.autoformatter.microsecond': '%M:%S.%f',\n",
       "          'date.autoformatter.minute': '%d %H:%M',\n",
       "          'date.autoformatter.month': '%Y-%m',\n",
       "          'date.autoformatter.second': '%H:%M:%S',\n",
       "          'date.autoformatter.year': '%Y',\n",
       "          'docstring.hardcopy': False,\n",
       "          'errorbar.capsize': 0.0,\n",
       "          'examples.directory': '',\n",
       "          'figure.autolayout': False,\n",
       "          'figure.constrained_layout.h_pad': 0.04167,\n",
       "          'figure.constrained_layout.hspace': 0.02,\n",
       "          'figure.constrained_layout.use': False,\n",
       "          'figure.constrained_layout.w_pad': 0.04167,\n",
       "          'figure.constrained_layout.wspace': 0.02,\n",
       "          'figure.dpi': 72.0,\n",
       "          'figure.edgecolor': (1, 1, 1, 0),\n",
       "          'figure.facecolor': (1, 1, 1, 0),\n",
       "          'figure.figsize': [6.0, 4.0],\n",
       "          'figure.frameon': True,\n",
       "          'figure.max_open_warning': 20,\n",
       "          'figure.subplot.bottom': 0.125,\n",
       "          'figure.subplot.hspace': 0.2,\n",
       "          'figure.subplot.left': 0.125,\n",
       "          'figure.subplot.right': 0.9,\n",
       "          'figure.subplot.top': 0.88,\n",
       "          'figure.subplot.wspace': 0.2,\n",
       "          'figure.titlesize': 'large',\n",
       "          'figure.titleweight': 'normal',\n",
       "          'font.cursive': ['Apple Chancery',\n",
       "                           'Textile',\n",
       "                           'Zapf Chancery',\n",
       "                           'Sand',\n",
       "                           'Script MT',\n",
       "                           'Felipa',\n",
       "                           'cursive'],\n",
       "          'font.family': ['sans-serif'],\n",
       "          'font.fantasy': ['Comic Sans MS',\n",
       "                           'Chicago',\n",
       "                           'Charcoal',\n",
       "                           'Impact',\n",
       "                           'Western',\n",
       "                           'Humor Sans',\n",
       "                           'xkcd',\n",
       "                           'fantasy'],\n",
       "          'font.monospace': ['DejaVu Sans Mono',\n",
       "                             'Bitstream Vera Sans Mono',\n",
       "                             'Computer Modern Typewriter',\n",
       "                             'Andale Mono',\n",
       "                             'Nimbus Mono L',\n",
       "                             'Courier New',\n",
       "                             'Courier',\n",
       "                             'Fixed',\n",
       "                             'Terminal',\n",
       "                             'monospace'],\n",
       "          'font.sans-serif': ['DejaVu Sans',\n",
       "                              'Bitstream Vera Sans',\n",
       "                              'Computer Modern Sans Serif',\n",
       "                              'Lucida Grande',\n",
       "                              'Verdana',\n",
       "                              'Geneva',\n",
       "                              'Lucid',\n",
       "                              'Arial',\n",
       "                              'Helvetica',\n",
       "                              'Avant Garde',\n",
       "                              'sans-serif'],\n",
       "          'font.serif': ['DejaVu Serif',\n",
       "                         'Bitstream Vera Serif',\n",
       "                         'Computer Modern Roman',\n",
       "                         'New Century Schoolbook',\n",
       "                         'Century Schoolbook L',\n",
       "                         'Utopia',\n",
       "                         'ITC Bookman',\n",
       "                         'Bookman',\n",
       "                         'Nimbus Roman No9 L',\n",
       "                         'Times New Roman',\n",
       "                         'Times',\n",
       "                         'Palatino',\n",
       "                         'Charter',\n",
       "                         'serif'],\n",
       "          'font.size': 10.0,\n",
       "          'font.stretch': 'normal',\n",
       "          'font.style': 'normal',\n",
       "          'font.variant': 'normal',\n",
       "          'font.weight': 'normal',\n",
       "          'grid.alpha': 1.0,\n",
       "          'grid.color': '#b0b0b0',\n",
       "          'grid.linestyle': '-',\n",
       "          'grid.linewidth': 0.8,\n",
       "          'hatch.color': 'black',\n",
       "          'hatch.linewidth': 1.0,\n",
       "          'hist.bins': 10,\n",
       "          'image.aspect': 'equal',\n",
       "          'image.cmap': 'viridis',\n",
       "          'image.composite_image': True,\n",
       "          'image.interpolation': 'nearest',\n",
       "          'image.lut': 256,\n",
       "          'image.origin': 'upper',\n",
       "          'image.resample': True,\n",
       "          'interactive': True,\n",
       "          'keymap.all_axes': ['a'],\n",
       "          'keymap.back': ['left', 'c', 'backspace', 'MouseButton.BACK'],\n",
       "          'keymap.copy': ['ctrl+c', 'cmd+c'],\n",
       "          'keymap.forward': ['right', 'v', 'MouseButton.FORWARD'],\n",
       "          'keymap.fullscreen': ['f', 'ctrl+f'],\n",
       "          'keymap.grid': ['g'],\n",
       "          'keymap.grid_minor': ['G'],\n",
       "          'keymap.help': ['f1'],\n",
       "          'keymap.home': ['h', 'r', 'home'],\n",
       "          'keymap.pan': ['p'],\n",
       "          'keymap.quit': ['ctrl+w', 'cmd+w', 'q'],\n",
       "          'keymap.quit_all': ['W', 'cmd+W', 'Q'],\n",
       "          'keymap.save': ['s', 'ctrl+s'],\n",
       "          'keymap.xscale': ['k', 'L'],\n",
       "          'keymap.yscale': ['l'],\n",
       "          'keymap.zoom': ['o'],\n",
       "          'legend.borderaxespad': 0.5,\n",
       "          'legend.borderpad': 0.4,\n",
       "          'legend.columnspacing': 2.0,\n",
       "          'legend.edgecolor': '0.8',\n",
       "          'legend.facecolor': 'inherit',\n",
       "          'legend.fancybox': True,\n",
       "          'legend.fontsize': 'medium',\n",
       "          'legend.framealpha': 0.8,\n",
       "          'legend.frameon': True,\n",
       "          'legend.handleheight': 0.7,\n",
       "          'legend.handlelength': 2.0,\n",
       "          'legend.handletextpad': 0.8,\n",
       "          'legend.labelspacing': 0.5,\n",
       "          'legend.loc': 'best',\n",
       "          'legend.markerscale': 1.0,\n",
       "          'legend.numpoints': 1,\n",
       "          'legend.scatterpoints': 1,\n",
       "          'legend.shadow': False,\n",
       "          'legend.title_fontsize': None,\n",
       "          'lines.antialiased': True,\n",
       "          'lines.color': 'C0',\n",
       "          'lines.dash_capstyle': 'butt',\n",
       "          'lines.dash_joinstyle': 'round',\n",
       "          'lines.dashdot_pattern': [6.4, 1.6, 1.0, 1.6],\n",
       "          'lines.dashed_pattern': [3.7, 1.6],\n",
       "          'lines.dotted_pattern': [1.0, 1.65],\n",
       "          'lines.linestyle': '-',\n",
       "          'lines.linewidth': 1.5,\n",
       "          'lines.marker': 'None',\n",
       "          'lines.markeredgecolor': 'auto',\n",
       "          'lines.markeredgewidth': 1.0,\n",
       "          'lines.markerfacecolor': 'auto',\n",
       "          'lines.markersize': 6.0,\n",
       "          'lines.scale_dashes': True,\n",
       "          'lines.solid_capstyle': 'projecting',\n",
       "          'lines.solid_joinstyle': 'round',\n",
       "          'markers.fillstyle': 'full',\n",
       "          'mathtext.bf': 'sans:bold',\n",
       "          'mathtext.cal': 'cursive',\n",
       "          'mathtext.default': 'it',\n",
       "          'mathtext.fallback_to_cm': True,\n",
       "          'mathtext.fontset': 'dejavusans',\n",
       "          'mathtext.it': 'sans:italic',\n",
       "          'mathtext.rm': 'sans',\n",
       "          'mathtext.sf': 'sans',\n",
       "          'mathtext.tt': 'monospace',\n",
       "          'patch.antialiased': True,\n",
       "          'patch.edgecolor': 'black',\n",
       "          'patch.facecolor': 'C0',\n",
       "          'patch.force_edgecolor': False,\n",
       "          'patch.linewidth': 1.0,\n",
       "          'path.effects': [],\n",
       "          'path.simplify': True,\n",
       "          'path.simplify_threshold': 0.1111111111111111,\n",
       "          'path.sketch': None,\n",
       "          'path.snap': True,\n",
       "          'pdf.compression': 6,\n",
       "          'pdf.fonttype': 3,\n",
       "          'pdf.inheritcolor': False,\n",
       "          'pdf.use14corefonts': False,\n",
       "          'pgf.preamble': '',\n",
       "          'pgf.rcfonts': True,\n",
       "          'pgf.texsystem': 'xelatex',\n",
       "          'polaraxes.grid': True,\n",
       "          'ps.distiller.res': 6000,\n",
       "          'ps.fonttype': 3,\n",
       "          'ps.papersize': 'letter',\n",
       "          'ps.useafm': False,\n",
       "          'ps.usedistiller': False,\n",
       "          'savefig.bbox': None,\n",
       "          'savefig.directory': '~',\n",
       "          'savefig.dpi': 'figure',\n",
       "          'savefig.edgecolor': 'white',\n",
       "          'savefig.facecolor': 'white',\n",
       "          'savefig.format': 'png',\n",
       "          'savefig.frameon': True,\n",
       "          'savefig.jpeg_quality': 95,\n",
       "          'savefig.orientation': 'portrait',\n",
       "          'savefig.pad_inches': 0.1,\n",
       "          'savefig.transparent': False,\n",
       "          'scatter.edgecolors': 'face',\n",
       "          'scatter.marker': 'o',\n",
       "          'svg.fonttype': 'path',\n",
       "          'svg.hashsalt': None,\n",
       "          'svg.image_inline': True,\n",
       "          'text.antialiased': True,\n",
       "          'text.color': 'black',\n",
       "          'text.hinting': 'auto',\n",
       "          'text.hinting_factor': 8,\n",
       "          'text.latex.preamble': '',\n",
       "          'text.latex.preview': False,\n",
       "          'text.latex.unicode': True,\n",
       "          'text.usetex': False,\n",
       "          'timezone': 'UTC',\n",
       "          'tk.window_focus': False,\n",
       "          'toolbar': 'toolbar2',\n",
       "          'verbose.fileo': 'sys.stdout',\n",
       "          'verbose.level': 'silent',\n",
       "          'webagg.address': '127.0.0.1',\n",
       "          'webagg.open_in_browser': True,\n",
       "          'webagg.port': 8988,\n",
       "          'webagg.port_retries': 50,\n",
       "          'xtick.alignment': 'center',\n",
       "          'xtick.bottom': True,\n",
       "          'xtick.color': 'black',\n",
       "          'xtick.direction': 'out',\n",
       "          'xtick.labelbottom': True,\n",
       "          'xtick.labelsize': 'medium',\n",
       "          'xtick.labeltop': False,\n",
       "          'xtick.major.bottom': True,\n",
       "          'xtick.major.pad': 3.5,\n",
       "          'xtick.major.size': 3.5,\n",
       "          'xtick.major.top': True,\n",
       "          'xtick.major.width': 0.8,\n",
       "          'xtick.minor.bottom': True,\n",
       "          'xtick.minor.pad': 3.4,\n",
       "          'xtick.minor.size': 2.0,\n",
       "          'xtick.minor.top': True,\n",
       "          'xtick.minor.visible': False,\n",
       "          'xtick.minor.width': 0.6,\n",
       "          'xtick.top': False,\n",
       "          'ytick.alignment': 'center_baseline',\n",
       "          'ytick.color': 'black',\n",
       "          'ytick.direction': 'out',\n",
       "          'ytick.labelleft': True,\n",
       "          'ytick.labelright': False,\n",
       "          'ytick.labelsize': 'medium',\n",
       "          'ytick.left': True,\n",
       "          'ytick.major.left': True,\n",
       "          'ytick.major.pad': 3.5,\n",
       "          'ytick.major.right': True,\n",
       "          'ytick.major.size': 3.5,\n",
       "          'ytick.major.width': 0.8,\n",
       "          'ytick.minor.left': True,\n",
       "          'ytick.minor.pad': 3.4,\n",
       "          'ytick.minor.right': True,\n",
       "          'ytick.minor.size': 2.0,\n",
       "          'ytick.minor.visible': False,\n",
       "          'ytick.minor.width': 0.6,\n",
       "          'ytick.right': False}))"
      ]
     },
     "execution_count": 4,
     "metadata": {},
     "output_type": "execute_result"
    }
   ],
   "source": [
    "rcParams.keys()"
   ]
  },
  {
   "cell_type": "code",
   "execution_count": 5,
   "metadata": {
    "ExecuteTime": {
     "end_time": "2020-03-12T11:47:50.194588Z",
     "start_time": "2020-03-12T11:47:50.188528Z"
    }
   },
   "outputs": [],
   "source": [
    "%matplotlib inline\n",
    "rcParams['figure.figsize'] = 10, 8\n",
    "rcParams['font.size'] = 30\n",
    "rcParams['lines.linewidth'] = 3\n",
    "sns.set_style('white')"
   ]
  },
  {
   "cell_type": "code",
   "execution_count": 7,
   "metadata": {
    "ExecuteTime": {
     "end_time": "2020-03-12T10:57:31.914319Z",
     "start_time": "2020-03-12T10:57:31.900453Z"
    }
   },
   "outputs": [],
   "source": [
    "df = pd.read_csv(\"data/kid.csv\")"
   ]
  },
  {
   "cell_type": "code",
   "execution_count": 8,
   "metadata": {
    "ExecuteTime": {
     "end_time": "2020-03-12T10:57:31.939817Z",
     "start_time": "2020-03-12T10:57:31.917299Z"
    }
   },
   "outputs": [
    {
     "data": {
      "text/html": [
       "<div>\n",
       "<style scoped>\n",
       "    .dataframe tbody tr th:only-of-type {\n",
       "        vertical-align: middle;\n",
       "    }\n",
       "\n",
       "    .dataframe tbody tr th {\n",
       "        vertical-align: top;\n",
       "    }\n",
       "\n",
       "    .dataframe thead th {\n",
       "        text-align: right;\n",
       "    }\n",
       "</style>\n",
       "<table border=\"1\" class=\"dataframe\">\n",
       "  <thead>\n",
       "    <tr style=\"text-align: right;\">\n",
       "      <th></th>\n",
       "      <th>Obs No.</th>\n",
       "      <th>Buy</th>\n",
       "      <th>Income</th>\n",
       "      <th>Is Female</th>\n",
       "      <th>Is Married</th>\n",
       "      <th>Has College</th>\n",
       "      <th>Is Professional</th>\n",
       "      <th>Is Retired</th>\n",
       "      <th>Unemployed</th>\n",
       "      <th>Residence Length</th>\n",
       "      <th>Dual Income</th>\n",
       "      <th>Minors</th>\n",
       "      <th>Own</th>\n",
       "      <th>House</th>\n",
       "      <th>White</th>\n",
       "      <th>English</th>\n",
       "      <th>Prev Child Mag</th>\n",
       "      <th>Prev Parent Mag</th>\n",
       "    </tr>\n",
       "  </thead>\n",
       "  <tbody>\n",
       "    <tr>\n",
       "      <th>0</th>\n",
       "      <td>1</td>\n",
       "      <td>0</td>\n",
       "      <td>24000</td>\n",
       "      <td>1</td>\n",
       "      <td>0</td>\n",
       "      <td>1</td>\n",
       "      <td>1</td>\n",
       "      <td>0</td>\n",
       "      <td>0</td>\n",
       "      <td>26</td>\n",
       "      <td>0</td>\n",
       "      <td>0</td>\n",
       "      <td>0</td>\n",
       "      <td>1</td>\n",
       "      <td>0</td>\n",
       "      <td>0</td>\n",
       "      <td>0</td>\n",
       "      <td>0</td>\n",
       "    </tr>\n",
       "    <tr>\n",
       "      <th>1</th>\n",
       "      <td>2</td>\n",
       "      <td>1</td>\n",
       "      <td>75000</td>\n",
       "      <td>1</td>\n",
       "      <td>1</td>\n",
       "      <td>1</td>\n",
       "      <td>1</td>\n",
       "      <td>0</td>\n",
       "      <td>0</td>\n",
       "      <td>15</td>\n",
       "      <td>1</td>\n",
       "      <td>0</td>\n",
       "      <td>1</td>\n",
       "      <td>1</td>\n",
       "      <td>1</td>\n",
       "      <td>1</td>\n",
       "      <td>1</td>\n",
       "      <td>0</td>\n",
       "    </tr>\n",
       "    <tr>\n",
       "      <th>2</th>\n",
       "      <td>3</td>\n",
       "      <td>0</td>\n",
       "      <td>46000</td>\n",
       "      <td>1</td>\n",
       "      <td>1</td>\n",
       "      <td>0</td>\n",
       "      <td>0</td>\n",
       "      <td>0</td>\n",
       "      <td>0</td>\n",
       "      <td>36</td>\n",
       "      <td>1</td>\n",
       "      <td>1</td>\n",
       "      <td>1</td>\n",
       "      <td>1</td>\n",
       "      <td>1</td>\n",
       "      <td>1</td>\n",
       "      <td>0</td>\n",
       "      <td>0</td>\n",
       "    </tr>\n",
       "    <tr>\n",
       "      <th>3</th>\n",
       "      <td>4</td>\n",
       "      <td>1</td>\n",
       "      <td>70000</td>\n",
       "      <td>0</td>\n",
       "      <td>1</td>\n",
       "      <td>0</td>\n",
       "      <td>1</td>\n",
       "      <td>0</td>\n",
       "      <td>0</td>\n",
       "      <td>55</td>\n",
       "      <td>0</td>\n",
       "      <td>0</td>\n",
       "      <td>1</td>\n",
       "      <td>1</td>\n",
       "      <td>1</td>\n",
       "      <td>1</td>\n",
       "      <td>1</td>\n",
       "      <td>0</td>\n",
       "    </tr>\n",
       "    <tr>\n",
       "      <th>4</th>\n",
       "      <td>5</td>\n",
       "      <td>0</td>\n",
       "      <td>43000</td>\n",
       "      <td>1</td>\n",
       "      <td>0</td>\n",
       "      <td>0</td>\n",
       "      <td>0</td>\n",
       "      <td>0</td>\n",
       "      <td>0</td>\n",
       "      <td>27</td>\n",
       "      <td>0</td>\n",
       "      <td>0</td>\n",
       "      <td>0</td>\n",
       "      <td>0</td>\n",
       "      <td>1</td>\n",
       "      <td>1</td>\n",
       "      <td>0</td>\n",
       "      <td>1</td>\n",
       "    </tr>\n",
       "  </tbody>\n",
       "</table>\n",
       "</div>"
      ],
      "text/plain": [
       "   Obs No.  Buy  Income  Is Female  Is Married  Has College  Is Professional  \\\n",
       "0        1    0   24000          1           0            1                1   \n",
       "1        2    1   75000          1           1            1                1   \n",
       "2        3    0   46000          1           1            0                0   \n",
       "3        4    1   70000          0           1            0                1   \n",
       "4        5    0   43000          1           0            0                0   \n",
       "\n",
       "   Is Retired  Unemployed  Residence Length  Dual Income  Minors  Own  House  \\\n",
       "0           0           0                26            0       0    0      1   \n",
       "1           0           0                15            1       0    1      1   \n",
       "2           0           0                36            1       1    1      1   \n",
       "3           0           0                55            0       0    1      1   \n",
       "4           0           0                27            0       0    0      0   \n",
       "\n",
       "   White  English  Prev Child Mag  Prev Parent Mag  \n",
       "0      0        0               0                0  \n",
       "1      1        1               1                0  \n",
       "2      1        1               0                0  \n",
       "3      1        1               1                0  \n",
       "4      1        1               0                1  "
      ]
     },
     "execution_count": 8,
     "metadata": {},
     "output_type": "execute_result"
    }
   ],
   "source": [
    "df.head()"
   ]
  },
  {
   "cell_type": "code",
   "execution_count": 9,
   "metadata": {
    "ExecuteTime": {
     "end_time": "2020-03-12T10:57:31.968711Z",
     "start_time": "2020-03-12T10:57:31.946830Z"
    }
   },
   "outputs": [],
   "source": [
    "cols = list(df.columns)\n",
    "cols2 = []\n",
    "for i in cols:\n",
    "    cols2.append(i.replace(\" \",\"_\").lower())\n",
    "    \n",
    "df.columns = cols2"
   ]
  },
  {
   "cell_type": "code",
   "execution_count": 10,
   "metadata": {
    "ExecuteTime": {
     "end_time": "2020-03-12T10:57:32.010719Z",
     "start_time": "2020-03-12T10:57:31.972906Z"
    }
   },
   "outputs": [
    {
     "data": {
      "text/html": [
       "<div>\n",
       "<style scoped>\n",
       "    .dataframe tbody tr th:only-of-type {\n",
       "        vertical-align: middle;\n",
       "    }\n",
       "\n",
       "    .dataframe tbody tr th {\n",
       "        vertical-align: top;\n",
       "    }\n",
       "\n",
       "    .dataframe thead th {\n",
       "        text-align: right;\n",
       "    }\n",
       "</style>\n",
       "<table border=\"1\" class=\"dataframe\">\n",
       "  <thead>\n",
       "    <tr style=\"text-align: right;\">\n",
       "      <th></th>\n",
       "      <th>obs_no.</th>\n",
       "      <th>buy</th>\n",
       "      <th>income</th>\n",
       "      <th>is_female</th>\n",
       "      <th>is_married</th>\n",
       "      <th>has_college</th>\n",
       "      <th>is_professional</th>\n",
       "      <th>is_retired</th>\n",
       "      <th>unemployed</th>\n",
       "      <th>residence_length</th>\n",
       "      <th>dual_income</th>\n",
       "      <th>minors</th>\n",
       "      <th>own</th>\n",
       "      <th>house</th>\n",
       "      <th>white</th>\n",
       "      <th>english</th>\n",
       "      <th>prev_child_mag</th>\n",
       "      <th>prev_parent_mag</th>\n",
       "    </tr>\n",
       "  </thead>\n",
       "  <tbody>\n",
       "    <tr>\n",
       "      <th>0</th>\n",
       "      <td>1</td>\n",
       "      <td>0</td>\n",
       "      <td>24000</td>\n",
       "      <td>1</td>\n",
       "      <td>0</td>\n",
       "      <td>1</td>\n",
       "      <td>1</td>\n",
       "      <td>0</td>\n",
       "      <td>0</td>\n",
       "      <td>26</td>\n",
       "      <td>0</td>\n",
       "      <td>0</td>\n",
       "      <td>0</td>\n",
       "      <td>1</td>\n",
       "      <td>0</td>\n",
       "      <td>0</td>\n",
       "      <td>0</td>\n",
       "      <td>0</td>\n",
       "    </tr>\n",
       "    <tr>\n",
       "      <th>1</th>\n",
       "      <td>2</td>\n",
       "      <td>1</td>\n",
       "      <td>75000</td>\n",
       "      <td>1</td>\n",
       "      <td>1</td>\n",
       "      <td>1</td>\n",
       "      <td>1</td>\n",
       "      <td>0</td>\n",
       "      <td>0</td>\n",
       "      <td>15</td>\n",
       "      <td>1</td>\n",
       "      <td>0</td>\n",
       "      <td>1</td>\n",
       "      <td>1</td>\n",
       "      <td>1</td>\n",
       "      <td>1</td>\n",
       "      <td>1</td>\n",
       "      <td>0</td>\n",
       "    </tr>\n",
       "    <tr>\n",
       "      <th>2</th>\n",
       "      <td>3</td>\n",
       "      <td>0</td>\n",
       "      <td>46000</td>\n",
       "      <td>1</td>\n",
       "      <td>1</td>\n",
       "      <td>0</td>\n",
       "      <td>0</td>\n",
       "      <td>0</td>\n",
       "      <td>0</td>\n",
       "      <td>36</td>\n",
       "      <td>1</td>\n",
       "      <td>1</td>\n",
       "      <td>1</td>\n",
       "      <td>1</td>\n",
       "      <td>1</td>\n",
       "      <td>1</td>\n",
       "      <td>0</td>\n",
       "      <td>0</td>\n",
       "    </tr>\n",
       "    <tr>\n",
       "      <th>3</th>\n",
       "      <td>4</td>\n",
       "      <td>1</td>\n",
       "      <td>70000</td>\n",
       "      <td>0</td>\n",
       "      <td>1</td>\n",
       "      <td>0</td>\n",
       "      <td>1</td>\n",
       "      <td>0</td>\n",
       "      <td>0</td>\n",
       "      <td>55</td>\n",
       "      <td>0</td>\n",
       "      <td>0</td>\n",
       "      <td>1</td>\n",
       "      <td>1</td>\n",
       "      <td>1</td>\n",
       "      <td>1</td>\n",
       "      <td>1</td>\n",
       "      <td>0</td>\n",
       "    </tr>\n",
       "    <tr>\n",
       "      <th>4</th>\n",
       "      <td>5</td>\n",
       "      <td>0</td>\n",
       "      <td>43000</td>\n",
       "      <td>1</td>\n",
       "      <td>0</td>\n",
       "      <td>0</td>\n",
       "      <td>0</td>\n",
       "      <td>0</td>\n",
       "      <td>0</td>\n",
       "      <td>27</td>\n",
       "      <td>0</td>\n",
       "      <td>0</td>\n",
       "      <td>0</td>\n",
       "      <td>0</td>\n",
       "      <td>1</td>\n",
       "      <td>1</td>\n",
       "      <td>0</td>\n",
       "      <td>1</td>\n",
       "    </tr>\n",
       "  </tbody>\n",
       "</table>\n",
       "</div>"
      ],
      "text/plain": [
       "   obs_no.  buy  income  is_female  is_married  has_college  is_professional  \\\n",
       "0        1    0   24000          1           0            1                1   \n",
       "1        2    1   75000          1           1            1                1   \n",
       "2        3    0   46000          1           1            0                0   \n",
       "3        4    1   70000          0           1            0                1   \n",
       "4        5    0   43000          1           0            0                0   \n",
       "\n",
       "   is_retired  unemployed  residence_length  dual_income  minors  own  house  \\\n",
       "0           0           0                26            0       0    0      1   \n",
       "1           0           0                15            1       0    1      1   \n",
       "2           0           0                36            1       1    1      1   \n",
       "3           0           0                55            0       0    1      1   \n",
       "4           0           0                27            0       0    0      0   \n",
       "\n",
       "   white  english  prev_child_mag  prev_parent_mag  \n",
       "0      0        0               0                0  \n",
       "1      1        1               1                0  \n",
       "2      1        1               0                0  \n",
       "3      1        1               1                0  \n",
       "4      1        1               0                1  "
      ]
     },
     "execution_count": 10,
     "metadata": {},
     "output_type": "execute_result"
    }
   ],
   "source": [
    "df.head()"
   ]
  },
  {
   "cell_type": "code",
   "execution_count": 11,
   "metadata": {
    "ExecuteTime": {
     "end_time": "2020-03-12T10:57:32.025682Z",
     "start_time": "2020-03-12T10:57:32.018808Z"
    }
   },
   "outputs": [],
   "source": [
    "df.drop(\"obs_no.\", inplace=True, axis=1)"
   ]
  },
  {
   "cell_type": "code",
   "execution_count": 12,
   "metadata": {
    "ExecuteTime": {
     "end_time": "2020-03-12T10:57:32.048982Z",
     "start_time": "2020-03-12T10:57:32.029582Z"
    }
   },
   "outputs": [
    {
     "data": {
      "text/html": [
       "<div>\n",
       "<style scoped>\n",
       "    .dataframe tbody tr th:only-of-type {\n",
       "        vertical-align: middle;\n",
       "    }\n",
       "\n",
       "    .dataframe tbody tr th {\n",
       "        vertical-align: top;\n",
       "    }\n",
       "\n",
       "    .dataframe thead th {\n",
       "        text-align: right;\n",
       "    }\n",
       "</style>\n",
       "<table border=\"1\" class=\"dataframe\">\n",
       "  <thead>\n",
       "    <tr style=\"text-align: right;\">\n",
       "      <th></th>\n",
       "      <th>buy</th>\n",
       "      <th>income</th>\n",
       "      <th>is_female</th>\n",
       "      <th>is_married</th>\n",
       "      <th>has_college</th>\n",
       "      <th>is_professional</th>\n",
       "      <th>is_retired</th>\n",
       "      <th>unemployed</th>\n",
       "      <th>residence_length</th>\n",
       "      <th>dual_income</th>\n",
       "      <th>minors</th>\n",
       "      <th>own</th>\n",
       "      <th>house</th>\n",
       "      <th>white</th>\n",
       "      <th>english</th>\n",
       "      <th>prev_child_mag</th>\n",
       "      <th>prev_parent_mag</th>\n",
       "    </tr>\n",
       "  </thead>\n",
       "  <tbody>\n",
       "    <tr>\n",
       "      <th>0</th>\n",
       "      <td>0</td>\n",
       "      <td>24000</td>\n",
       "      <td>1</td>\n",
       "      <td>0</td>\n",
       "      <td>1</td>\n",
       "      <td>1</td>\n",
       "      <td>0</td>\n",
       "      <td>0</td>\n",
       "      <td>26</td>\n",
       "      <td>0</td>\n",
       "      <td>0</td>\n",
       "      <td>0</td>\n",
       "      <td>1</td>\n",
       "      <td>0</td>\n",
       "      <td>0</td>\n",
       "      <td>0</td>\n",
       "      <td>0</td>\n",
       "    </tr>\n",
       "    <tr>\n",
       "      <th>1</th>\n",
       "      <td>1</td>\n",
       "      <td>75000</td>\n",
       "      <td>1</td>\n",
       "      <td>1</td>\n",
       "      <td>1</td>\n",
       "      <td>1</td>\n",
       "      <td>0</td>\n",
       "      <td>0</td>\n",
       "      <td>15</td>\n",
       "      <td>1</td>\n",
       "      <td>0</td>\n",
       "      <td>1</td>\n",
       "      <td>1</td>\n",
       "      <td>1</td>\n",
       "      <td>1</td>\n",
       "      <td>1</td>\n",
       "      <td>0</td>\n",
       "    </tr>\n",
       "    <tr>\n",
       "      <th>2</th>\n",
       "      <td>0</td>\n",
       "      <td>46000</td>\n",
       "      <td>1</td>\n",
       "      <td>1</td>\n",
       "      <td>0</td>\n",
       "      <td>0</td>\n",
       "      <td>0</td>\n",
       "      <td>0</td>\n",
       "      <td>36</td>\n",
       "      <td>1</td>\n",
       "      <td>1</td>\n",
       "      <td>1</td>\n",
       "      <td>1</td>\n",
       "      <td>1</td>\n",
       "      <td>1</td>\n",
       "      <td>0</td>\n",
       "      <td>0</td>\n",
       "    </tr>\n",
       "    <tr>\n",
       "      <th>3</th>\n",
       "      <td>1</td>\n",
       "      <td>70000</td>\n",
       "      <td>0</td>\n",
       "      <td>1</td>\n",
       "      <td>0</td>\n",
       "      <td>1</td>\n",
       "      <td>0</td>\n",
       "      <td>0</td>\n",
       "      <td>55</td>\n",
       "      <td>0</td>\n",
       "      <td>0</td>\n",
       "      <td>1</td>\n",
       "      <td>1</td>\n",
       "      <td>1</td>\n",
       "      <td>1</td>\n",
       "      <td>1</td>\n",
       "      <td>0</td>\n",
       "    </tr>\n",
       "    <tr>\n",
       "      <th>4</th>\n",
       "      <td>0</td>\n",
       "      <td>43000</td>\n",
       "      <td>1</td>\n",
       "      <td>0</td>\n",
       "      <td>0</td>\n",
       "      <td>0</td>\n",
       "      <td>0</td>\n",
       "      <td>0</td>\n",
       "      <td>27</td>\n",
       "      <td>0</td>\n",
       "      <td>0</td>\n",
       "      <td>0</td>\n",
       "      <td>0</td>\n",
       "      <td>1</td>\n",
       "      <td>1</td>\n",
       "      <td>0</td>\n",
       "      <td>1</td>\n",
       "    </tr>\n",
       "  </tbody>\n",
       "</table>\n",
       "</div>"
      ],
      "text/plain": [
       "   buy  income  is_female  is_married  has_college  is_professional  \\\n",
       "0    0   24000          1           0            1                1   \n",
       "1    1   75000          1           1            1                1   \n",
       "2    0   46000          1           1            0                0   \n",
       "3    1   70000          0           1            0                1   \n",
       "4    0   43000          1           0            0                0   \n",
       "\n",
       "   is_retired  unemployed  residence_length  dual_income  minors  own  house  \\\n",
       "0           0           0                26            0       0    0      1   \n",
       "1           0           0                15            1       0    1      1   \n",
       "2           0           0                36            1       1    1      1   \n",
       "3           0           0                55            0       0    1      1   \n",
       "4           0           0                27            0       0    0      0   \n",
       "\n",
       "   white  english  prev_child_mag  prev_parent_mag  \n",
       "0      0        0               0                0  \n",
       "1      1        1               1                0  \n",
       "2      1        1               0                0  \n",
       "3      1        1               1                0  \n",
       "4      1        1               0                1  "
      ]
     },
     "execution_count": 12,
     "metadata": {},
     "output_type": "execute_result"
    }
   ],
   "source": [
    "df.head()"
   ]
  },
  {
   "cell_type": "code",
   "execution_count": 13,
   "metadata": {
    "ExecuteTime": {
     "end_time": "2020-03-12T11:43:48.817108Z",
     "start_time": "2020-03-12T11:43:48.490805Z"
    }
   },
   "outputs": [
    {
     "data": {
      "text/plain": [
       "<matplotlib.axes._subplots.AxesSubplot at 0x1a1a2a5550>"
      ]
     },
     "execution_count": 13,
     "metadata": {},
     "output_type": "execute_result"
    },
    {
     "data": {
      "image/png": "[encoded data removed]",
      "text/plain": [
       "<Figure size 720x576 with 2 Axes>"
      ]
     },
     "metadata": {},
     "output_type": "display_data"
    }
   ],
   "source": [
    "sns.heatmap(df.corr()) "
   ]
  },
  {
   "cell_type": "markdown",
   "metadata": {
    "ExecuteTime": {
     "end_time": "2020-03-12T10:23:28.352651Z",
     "start_time": "2020-03-12T10:23:28.343971Z"
    }
   },
   "source": [
    "own = house\n",
    "college = profession\n",
    "income = is married & profession\n",
    "is married = own & dual income\n",
    "\n",
    "own\n",
    "is_married\n",
    "profession"
   ]
  },
  {
   "cell_type": "code",
   "execution_count": 14,
   "metadata": {
    "ExecuteTime": {
     "end_time": "2020-03-12T10:57:32.458772Z",
     "start_time": "2020-03-12T10:57:32.435383Z"
    }
   },
   "outputs": [
    {
     "data": {
      "text/html": [
       "<div>\n",
       "<style scoped>\n",
       "    .dataframe tbody tr th:only-of-type {\n",
       "        vertical-align: middle;\n",
       "    }\n",
       "\n",
       "    .dataframe tbody tr th {\n",
       "        vertical-align: top;\n",
       "    }\n",
       "\n",
       "    .dataframe thead th {\n",
       "        text-align: right;\n",
       "    }\n",
       "</style>\n",
       "<table border=\"1\" class=\"dataframe\">\n",
       "  <thead>\n",
       "    <tr style=\"text-align: right;\">\n",
       "      <th></th>\n",
       "      <th>buy</th>\n",
       "      <th>income</th>\n",
       "      <th>is_female</th>\n",
       "      <th>is_married</th>\n",
       "      <th>has_college</th>\n",
       "      <th>is_professional</th>\n",
       "      <th>is_retired</th>\n",
       "      <th>unemployed</th>\n",
       "      <th>residence_length</th>\n",
       "      <th>dual_income</th>\n",
       "      <th>minors</th>\n",
       "      <th>own</th>\n",
       "      <th>house</th>\n",
       "      <th>white</th>\n",
       "      <th>english</th>\n",
       "      <th>prev_child_mag</th>\n",
       "      <th>prev_parent_mag</th>\n",
       "    </tr>\n",
       "  </thead>\n",
       "  <tbody>\n",
       "    <tr>\n",
       "      <th>0</th>\n",
       "      <td>0</td>\n",
       "      <td>24000</td>\n",
       "      <td>1</td>\n",
       "      <td>0</td>\n",
       "      <td>1</td>\n",
       "      <td>1</td>\n",
       "      <td>0</td>\n",
       "      <td>0</td>\n",
       "      <td>26</td>\n",
       "      <td>0</td>\n",
       "      <td>0</td>\n",
       "      <td>0</td>\n",
       "      <td>1</td>\n",
       "      <td>0</td>\n",
       "      <td>0</td>\n",
       "      <td>0</td>\n",
       "      <td>0</td>\n",
       "    </tr>\n",
       "    <tr>\n",
       "      <th>1</th>\n",
       "      <td>1</td>\n",
       "      <td>75000</td>\n",
       "      <td>1</td>\n",
       "      <td>1</td>\n",
       "      <td>1</td>\n",
       "      <td>1</td>\n",
       "      <td>0</td>\n",
       "      <td>0</td>\n",
       "      <td>15</td>\n",
       "      <td>1</td>\n",
       "      <td>0</td>\n",
       "      <td>1</td>\n",
       "      <td>1</td>\n",
       "      <td>1</td>\n",
       "      <td>1</td>\n",
       "      <td>1</td>\n",
       "      <td>0</td>\n",
       "    </tr>\n",
       "    <tr>\n",
       "      <th>2</th>\n",
       "      <td>0</td>\n",
       "      <td>46000</td>\n",
       "      <td>1</td>\n",
       "      <td>1</td>\n",
       "      <td>0</td>\n",
       "      <td>0</td>\n",
       "      <td>0</td>\n",
       "      <td>0</td>\n",
       "      <td>36</td>\n",
       "      <td>1</td>\n",
       "      <td>1</td>\n",
       "      <td>1</td>\n",
       "      <td>1</td>\n",
       "      <td>1</td>\n",
       "      <td>1</td>\n",
       "      <td>0</td>\n",
       "      <td>0</td>\n",
       "    </tr>\n",
       "    <tr>\n",
       "      <th>3</th>\n",
       "      <td>1</td>\n",
       "      <td>70000</td>\n",
       "      <td>0</td>\n",
       "      <td>1</td>\n",
       "      <td>0</td>\n",
       "      <td>1</td>\n",
       "      <td>0</td>\n",
       "      <td>0</td>\n",
       "      <td>55</td>\n",
       "      <td>0</td>\n",
       "      <td>0</td>\n",
       "      <td>1</td>\n",
       "      <td>1</td>\n",
       "      <td>1</td>\n",
       "      <td>1</td>\n",
       "      <td>1</td>\n",
       "      <td>0</td>\n",
       "    </tr>\n",
       "    <tr>\n",
       "      <th>4</th>\n",
       "      <td>0</td>\n",
       "      <td>43000</td>\n",
       "      <td>1</td>\n",
       "      <td>0</td>\n",
       "      <td>0</td>\n",
       "      <td>0</td>\n",
       "      <td>0</td>\n",
       "      <td>0</td>\n",
       "      <td>27</td>\n",
       "      <td>0</td>\n",
       "      <td>0</td>\n",
       "      <td>0</td>\n",
       "      <td>0</td>\n",
       "      <td>1</td>\n",
       "      <td>1</td>\n",
       "      <td>0</td>\n",
       "      <td>1</td>\n",
       "    </tr>\n",
       "  </tbody>\n",
       "</table>\n",
       "</div>"
      ],
      "text/plain": [
       "   buy  income  is_female  is_married  has_college  is_professional  \\\n",
       "0    0   24000          1           0            1                1   \n",
       "1    1   75000          1           1            1                1   \n",
       "2    0   46000          1           1            0                0   \n",
       "3    1   70000          0           1            0                1   \n",
       "4    0   43000          1           0            0                0   \n",
       "\n",
       "   is_retired  unemployed  residence_length  dual_income  minors  own  house  \\\n",
       "0           0           0                26            0       0    0      1   \n",
       "1           0           0                15            1       0    1      1   \n",
       "2           0           0                36            1       1    1      1   \n",
       "3           0           0                55            0       0    1      1   \n",
       "4           0           0                27            0       0    0      0   \n",
       "\n",
       "   white  english  prev_child_mag  prev_parent_mag  \n",
       "0      0        0               0                0  \n",
       "1      1        1               1                0  \n",
       "2      1        1               0                0  \n",
       "3      1        1               1                0  \n",
       "4      1        1               0                1  "
      ]
     },
     "execution_count": 14,
     "metadata": {},
     "output_type": "execute_result"
    }
   ],
   "source": [
    "#df.drop([\"own\",\"is_married\",\"is_professional\"], inplace=True, axis=1)\n",
    "df.head()"
   ]
  },
  {
   "cell_type": "code",
   "execution_count": 15,
   "metadata": {
    "ExecuteTime": {
     "end_time": "2020-03-12T10:57:32.475211Z",
     "start_time": "2020-03-12T10:57:32.471401Z"
    }
   },
   "outputs": [],
   "source": [
    "X = df.iloc[:,1:].values"
   ]
  },
  {
   "cell_type": "code",
   "execution_count": 16,
   "metadata": {
    "ExecuteTime": {
     "end_time": "2020-03-12T10:57:32.486911Z",
     "start_time": "2020-03-12T10:57:32.478224Z"
    }
   },
   "outputs": [],
   "source": [
    "y = df.iloc[:,0].values"
   ]
  },
  {
   "cell_type": "code",
   "execution_count": 17,
   "metadata": {
    "ExecuteTime": {
     "end_time": "2020-03-12T10:57:32.504222Z",
     "start_time": "2020-03-12T10:57:32.491606Z"
    }
   },
   "outputs": [],
   "source": [
    "X_train, X_test, y_train, y_test = train_test_split(X, y, test_size = .3, random_state=25)"
   ]
  },
  {
   "cell_type": "code",
   "execution_count": 18,
   "metadata": {
    "ExecuteTime": {
     "end_time": "2020-03-12T10:57:32.531362Z",
     "start_time": "2020-03-12T10:57:32.512795Z"
    }
   },
   "outputs": [
    {
     "data": {
      "text/plain": [
       "LogisticRegression(C=1.0, class_weight=None, dual=False, fit_intercept=True,\n",
       "                   intercept_scaling=1, l1_ratio=None, max_iter=100,\n",
       "                   multi_class='auto', n_jobs=None, penalty='l2',\n",
       "                   random_state=None, solver='lbfgs', tol=0.0001, verbose=0,\n",
       "                   warm_start=False)"
      ]
     },
     "execution_count": 18,
     "metadata": {},
     "output_type": "execute_result"
    }
   ],
   "source": [
    "LogReg = LogisticRegression()\n",
    "LogReg.fit(X_train, y_train)"
   ]
  },
  {
   "cell_type": "code",
   "execution_count": 19,
   "metadata": {
    "ExecuteTime": {
     "end_time": "2020-03-12T10:57:32.541799Z",
     "start_time": "2020-03-12T10:57:32.537306Z"
    }
   },
   "outputs": [],
   "source": [
    "y_pred = LogReg.predict(X_test)"
   ]
  },
  {
   "cell_type": "code",
   "execution_count": 20,
   "metadata": {
    "ExecuteTime": {
     "end_time": "2020-03-12T12:03:27.829779Z",
     "start_time": "2020-03-12T12:03:27.610404Z"
    }
   },
   "outputs": [
    {
     "data": {
      "text/plain": [
       "<matplotlib.axes._subplots.AxesSubplot at 0x1a1a30a2b0>"
      ]
     },
     "execution_count": 20,
     "metadata": {},
     "output_type": "execute_result"
    },
    {
     "data": {
      "image/png": "[encoded data removed]",
      "text/plain": [
       "<Figure size 720x576 with 2 Axes>"
      ]
     },
     "metadata": {},
     "output_type": "display_data"
    }
   ],
   "source": [
    "confusion_matrix = pd.crosstab(y_test, y_pred, rownames=['Actual'], colnames=['Predicted'])\n",
    "sns.heatmap(confusion_matrix, annot=True)"
   ]
  },
  {
   "cell_type": "code",
   "execution_count": 21,
   "metadata": {
    "ExecuteTime": {
     "end_time": "2020-03-12T10:57:32.786086Z",
     "start_time": "2020-03-12T10:57:32.777977Z"
    }
   },
   "outputs": [
    {
     "name": "stdout",
     "output_type": "stream",
     "text": [
      "              precision    recall  f1-score   support\n",
      "\n",
      "           0       0.86      0.80      0.83       166\n",
      "           1       0.31      0.42      0.35        36\n",
      "\n",
      "    accuracy                           0.73       202\n",
      "   macro avg       0.58      0.61      0.59       202\n",
      "weighted avg       0.76      0.73      0.74       202\n",
      "\n"
     ]
    }
   ],
   "source": [
    "print(classification_report(y_test, y_pred))"
   ]
  },
  {
   "cell_type": "code",
   "execution_count": 22,
   "metadata": {
    "ExecuteTime": {
     "end_time": "2020-03-12T10:57:32.792317Z",
     "start_time": "2020-03-12T10:57:32.788659Z"
    }
   },
   "outputs": [],
   "source": [
    "from sklearn.metrics import precision_recall_curve, roc_curve, roc_auc_score"
   ]
  },
  {
   "cell_type": "code",
   "execution_count": 23,
   "metadata": {
    "ExecuteTime": {
     "end_time": "2020-03-12T10:57:32.802605Z",
     "start_time": "2020-03-12T10:57:32.794730Z"
    }
   },
   "outputs": [],
   "source": [
    "prob_pred = LogReg.predict_proba(X_test)"
   ]
  },
  {
   "cell_type": "code",
   "execution_count": 24,
   "metadata": {
    "ExecuteTime": {
     "end_time": "2020-03-12T10:57:32.854163Z",
     "start_time": "2020-03-12T10:57:32.836739Z"
    }
   },
   "outputs": [],
   "source": [
    "precision, recall, thresholds = precision_recall_curve(y_test, prob_pred[:,1] )"
   ]
  },
  {
   "cell_type": "code",
   "execution_count": 25,
   "metadata": {
    "ExecuteTime": {
     "end_time": "2020-03-12T11:55:02.418330Z",
     "start_time": "2020-03-12T11:55:02.178798Z"
    }
   },
   "outputs": [
    {
     "data": {
      "text/plain": [
       "[<matplotlib.lines.Line2D at 0x1a1ac12208>]"
      ]
     },
     "execution_count": 25,
     "metadata": {},
     "output_type": "execute_result"
    },
    {
     "data": {
      "image/png": "[encoded data removed]",
      "text/plain": [
       "<Figure size 720x576 with 1 Axes>"
      ]
     },
     "metadata": {},
     "output_type": "display_data"
    }
   ],
   "source": [
    "plt.plot(recall, precision)"
   ]
  },
  {
   "cell_type": "code",
   "execution_count": 26,
   "metadata": {
    "ExecuteTime": {
     "end_time": "2020-03-12T10:57:33.231595Z",
     "start_time": "2020-03-12T10:57:33.226600Z"
    }
   },
   "outputs": [],
   "source": [
    "fpr, tpr, thresholds = roc_curve(y_test, prob_pred[:,1] )"
   ]
  },
  {
   "cell_type": "code",
   "execution_count": 27,
   "metadata": {
    "ExecuteTime": {
     "end_time": "2020-03-12T11:51:14.671416Z",
     "start_time": "2020-03-12T11:51:14.420348Z"
    }
   },
   "outputs": [
    {
     "data": {
      "text/plain": [
       "(0, 1)"
      ]
     },
     "execution_count": 27,
     "metadata": {},
     "output_type": "execute_result"
    },
    {
     "data": {
      "image/png": "[encoded data removed]",
      "text/plain": [
       "<Figure size 720x576 with 1 Axes>"
      ]
     },
     "metadata": {},
     "output_type": "display_data"
    }
   ],
   "source": [
    "plt.plot(fpr,tpr)\n",
    "plt.plot([0,1],[0,1])\n",
    "plt.xlabel(\"FPR\")\n",
    "plt.ylabel(\"TPR\")\n",
    "plt.title(\"ROC\")\n",
    "plt.ylim(0,1)\n",
    "plt.xlim(0,1)"
   ]
  },
  {
   "cell_type": "code",
   "execution_count": 28,
   "metadata": {
    "ExecuteTime": {
     "end_time": "2020-03-12T10:57:33.510227Z",
     "start_time": "2020-03-12T10:57:33.500611Z"
    }
   },
   "outputs": [
    {
     "data": {
      "text/plain": [
       "0.6184738955823292"
      ]
     },
     "execution_count": 28,
     "metadata": {},
     "output_type": "execute_result"
    }
   ],
   "source": [
    "roc_auc_score(y_test, prob_pred[:,1] )"
   ]
  },
  {
   "cell_type": "code",
   "execution_count": 29,
   "metadata": {
    "ExecuteTime": {
     "end_time": "2020-03-12T12:12:11.963719Z",
     "start_time": "2020-03-12T12:12:11.960177Z"
    }
   },
   "outputs": [],
   "source": [
    "from sklearn.preprocessing import PolynomialFeatures, StandardScaler"
   ]
  },
  {
   "cell_type": "code",
   "execution_count": 30,
   "metadata": {
    "ExecuteTime": {
     "end_time": "2020-03-12T12:12:12.539274Z",
     "start_time": "2020-03-12T12:12:12.535699Z"
    }
   },
   "outputs": [],
   "source": [
    "pol = PolynomialFeatures(degree=2)\n",
    "scaler = StandardScaler()"
   ]
  },
  {
   "cell_type": "code",
   "execution_count": null,
   "metadata": {},
   "outputs": [],
   "source": []
  },
  {
   "cell_type": "code",
   "execution_count": 31,
   "metadata": {
    "ExecuteTime": {
     "end_time": "2020-03-12T12:33:50.419543Z",
     "start_time": "2020-03-12T12:33:50.413626Z"
    }
   },
   "outputs": [],
   "source": [
    "X_pol = pol.fit_transform(X)"
   ]
  },
  {
   "cell_type": "code",
   "execution_count": 32,
   "metadata": {
    "ExecuteTime": {
     "end_time": "2020-03-12T12:33:51.063468Z",
     "start_time": "2020-03-12T12:33:51.057659Z"
    }
   },
   "outputs": [],
   "source": [
    "X_train2, X_test2, y_train2, y_test2 = train_test_split(X_pol, y, test_size = .3, random_state=25)"
   ]
  },
  {
   "cell_type": "code",
   "execution_count": 33,
   "metadata": {
    "ExecuteTime": {
     "end_time": "2020-03-12T12:33:51.555255Z",
     "start_time": "2020-03-12T12:33:51.548273Z"
    }
   },
   "outputs": [],
   "source": [
    "X_train2 = scaler.fit_transform(X_train2)\n",
    "X_test2 = scaler.transform(X_test2)"
   ]
  },
  {
   "cell_type": "code",
   "execution_count": 34,
   "metadata": {
    "ExecuteTime": {
     "end_time": "2020-03-12T12:33:52.122912Z",
     "start_time": "2020-03-12T12:33:52.072916Z"
    }
   },
   "outputs": [
    {
     "data": {
      "text/plain": [
       "LogisticRegression(C=1.0, class_weight=None, dual=False, fit_intercept=True,\n",
       "                   intercept_scaling=1, l1_ratio=None, max_iter=1000,\n",
       "                   multi_class='auto', n_jobs=None, penalty='l2',\n",
       "                   random_state=None, solver='lbfgs', tol=0.0001, verbose=0,\n",
       "                   warm_start=False)"
      ]
     },
     "execution_count": 34,
     "metadata": {},
     "output_type": "execute_result"
    }
   ],
   "source": [
    "LogReg2 = LogisticRegression(max_iter=1000)\n",
    "LogReg2.fit(X_train2, y_train2)"
   ]
  },
  {
   "cell_type": "code",
   "execution_count": 35,
   "metadata": {
    "ExecuteTime": {
     "end_time": "2020-03-12T12:33:55.557536Z",
     "start_time": "2020-03-12T12:33:55.553391Z"
    }
   },
   "outputs": [],
   "source": [
    "y_pred2 = LogReg2.predict(X_test2)"
   ]
  },
  {
   "cell_type": "code",
   "execution_count": 36,
   "metadata": {
    "ExecuteTime": {
     "end_time": "2020-03-12T12:33:56.103021Z",
     "start_time": "2020-03-12T12:33:56.093417Z"
    }
   },
   "outputs": [
    {
     "data": {
      "text/plain": [
       "array([0, 0, 0, 0, 1, 1, 0, 0, 0, 0, 0, 1, 0, 0, 1, 0, 0, 1, 0, 0, 0, 1,\n",
       "       0, 0, 0, 0, 0, 1, 0, 0, 0, 0, 0, 0, 1, 0, 0, 0, 0, 0, 0, 1, 1, 0,\n",
       "       1, 0, 0, 1, 0, 1, 0, 0, 0, 0, 0, 1, 0, 0, 0, 0, 1, 0, 0, 1, 0, 0,\n",
       "       0, 0, 0, 0, 0, 0, 0, 1, 0, 0, 0, 0, 0, 0, 1, 0, 0, 0, 1, 1, 0, 0,\n",
       "       0, 0, 1, 0, 0, 0, 1, 0, 0, 0, 0, 0, 1, 0, 0, 0, 0, 0, 0, 0, 0, 0,\n",
       "       0, 1, 0, 0, 0, 1, 0, 0, 0, 0, 0, 0, 0, 0, 0, 0, 0, 0, 1, 0, 1, 0,\n",
       "       0, 0, 0, 0, 0, 1, 1, 0, 0, 0, 0, 0, 0, 0, 1, 0, 1, 0, 0, 0, 0, 0,\n",
       "       0, 0, 0, 0, 0, 0, 0, 1, 0, 0, 1, 1, 0, 0, 1, 0, 0, 0, 0, 0, 1, 1,\n",
       "       0, 0, 0, 0, 0, 0, 0, 1, 0, 0, 0, 0, 0, 0, 0, 1, 0, 0, 0, 0, 0, 0,\n",
       "       0, 1, 1, 0])"
      ]
     },
     "execution_count": 36,
     "metadata": {},
     "output_type": "execute_result"
    }
   ],
   "source": [
    "y_pred2"
   ]
  },
  {
   "cell_type": "code",
   "execution_count": 37,
   "metadata": {
    "ExecuteTime": {
     "end_time": "2020-03-12T12:33:57.692276Z",
     "start_time": "2020-03-12T12:33:57.471458Z"
    }
   },
   "outputs": [
    {
     "data": {
      "text/plain": [
       "<matplotlib.axes._subplots.AxesSubplot at 0x1a1ac237f0>"
      ]
     },
     "execution_count": 37,
     "metadata": {},
     "output_type": "execute_result"
    },
    {
     "data": {
      "image/png": "[encoded data removed]",
      "text/plain": [
       "<Figure size 720x576 with 2 Axes>"
      ]
     },
     "metadata": {},
     "output_type": "display_data"
    }
   ],
   "source": [
    "confusion_matrix = pd.crosstab(y_test2, y_pred2, rownames=['Actual'], colnames=['Predicted'])\n",
    "sns.heatmap(confusion_matrix, annot=True)"
   ]
  },
  {
   "cell_type": "code",
   "execution_count": 38,
   "metadata": {
    "ExecuteTime": {
     "end_time": "2020-03-12T12:34:02.446426Z",
     "start_time": "2020-03-12T12:34:02.436771Z"
    }
   },
   "outputs": [
    {
     "name": "stdout",
     "output_type": "stream",
     "text": [
      "              precision    recall  f1-score   support\n",
      "\n",
      "           0       0.97      0.94      0.95       166\n",
      "           1       0.76      0.86      0.81        36\n",
      "\n",
      "    accuracy                           0.93       202\n",
      "   macro avg       0.86      0.90      0.88       202\n",
      "weighted avg       0.93      0.93      0.93       202\n",
      "\n"
     ]
    }
   ],
   "source": [
    "print(classification_report(y_test2, y_pred2))"
   ]
  },
  {
   "cell_type": "code",
   "execution_count": 39,
   "metadata": {
    "ExecuteTime": {
     "end_time": "2020-03-12T12:34:14.946052Z",
     "start_time": "2020-03-12T12:34:14.942073Z"
    }
   },
   "outputs": [],
   "source": [
    "prob_pred2 = LogReg2.predict_proba(X_test2)"
   ]
  },
  {
   "cell_type": "code",
   "execution_count": 40,
   "metadata": {
    "ExecuteTime": {
     "end_time": "2020-03-12T12:34:15.509559Z",
     "start_time": "2020-03-12T12:34:15.502000Z"
    }
   },
   "outputs": [
    {
     "data": {
      "text/plain": [
       "0.9608433734939759"
      ]
     },
     "execution_count": 40,
     "metadata": {},
     "output_type": "execute_result"
    }
   ],
   "source": [
    "roc_auc_score(y_test2, prob_pred2[:,1] )"
   ]
  },
  {
   "cell_type": "code",
   "execution_count": 41,
   "metadata": {
    "ExecuteTime": {
     "end_time": "2020-03-12T12:34:16.271919Z",
     "start_time": "2020-03-12T12:34:16.265957Z"
    }
   },
   "outputs": [],
   "source": [
    "fpr2, tpr2, thresholds2 = roc_curve(y_test2, prob_pred2[:,1] )"
   ]
  },
  {
   "cell_type": "code",
   "execution_count": 42,
   "metadata": {
    "ExecuteTime": {
     "end_time": "2020-03-12T12:34:17.088784Z",
     "start_time": "2020-03-12T12:34:16.852624Z"
    }
   },
   "outputs": [
    {
     "data": {
      "text/plain": [
       "(0, 1)"
      ]
     },
     "execution_count": 42,
     "metadata": {},
     "output_type": "execute_result"
    },
    {
     "data": {
      "image/png": "[encoded data removed]",
      "text/plain": [
       "<Figure size 720x576 with 1 Axes>"
      ]
     },
     "metadata": {},
     "output_type": "display_data"
    }
   ],
   "source": [
    "plt.plot(fpr2,tpr2)\n",
    "plt.plot([0,1],[0,1])\n",
    "plt.xlabel(\"FPR\")\n",
    "plt.ylabel(\"TPR\")\n",
    "plt.title(\"ROC\")\n",
    "plt.ylim(0,1)\n",
    "plt.xlim(0,1)"
   ]
  },
  {
   "cell_type": "code",
   "execution_count": 49,
   "metadata": {},
   "outputs": [
    {
     "data": {
      "image/png": "[encoded data removed]",
      "text/plain": [
       "<Figure size 720x576 with 2 Axes>"
      ]
     },
     "metadata": {},
     "output_type": "display_data"
    }
   ],
   "source": [
    "fig = plt.figure()\n",
    "a1 = fig.add_axes([0,0,1,1])\n",
    "\n",
    "a1.plot(thresholds2,tpr2)\n",
    "a1.set_ylabel('TPR')\n",
    "a1.set_xlabel('Threshold')\n",
    "a2 = a1.twinx()\n",
    "a2.plot(thresholds2,fpr2,'ro-')\n",
    "a2.set_ylabel('FPR')\n",
    "a1.set_xlim([0, 1])\n",
    "fig.legend(labels = ('TPR','FPR'),loc='upper left')\n",
    "plt.show()"
   ]
  },
  {
   "cell_type": "code",
   "execution_count": null,
   "metadata": {},
   "outputs": [],
   "source": []
  }
 ],
 "metadata": {
  "kernelspec": {
   "display_name": "Python [conda env:nf] *",
   "language": "python",
   "name": "conda-env-nf-py"
  },
  "language_info": {
   "codemirror_mode": {
    "name": "ipython",
    "version": 3
   },
   "file_extension": ".py",
   "mimetype": "text/x-python",
   "name": "python",
   "nbconvert_exporter": "python",
   "pygments_lexer": "ipython3",
   "version": "3.6.10"
  },
  "toc": {
   "base_numbering": 1,
   "nav_menu": {},
   "number_sections": true,
   "sideBar": true,
   "skip_h1_title": false,
   "title_cell": "Table of Contents",
   "title_sidebar": "Contents",
   "toc_cell": false,
   "toc_position": {},
   "toc_section_display": true,
   "toc_window_display": false
  },
  "varInspector": {
   "cols": {
    "lenName": 16,
    "lenType": 16,
    "lenVar": 40
   },
   "kernels_config": {
    "python": {
     "delete_cmd_postfix": "",
     "delete_cmd_prefix": "del ",
     "library": "var_list.py",
     "varRefreshCmd": "print(var_dic_list())"
    },
    "r": {
     "delete_cmd_postfix": ") ",
     "delete_cmd_prefix": "rm(",
     "library": "var_list.r",
     "varRefreshCmd": "cat(var_dic_list()) "
    }
   },
   "types_to_exclude": [
    "module",
    "function",
    "builtin_function_or_method",
    "instance",
    "_Feature"
   ],
   "window_display": false
  }
 },
 "nbformat": 4,
 "nbformat_minor": 2
}
