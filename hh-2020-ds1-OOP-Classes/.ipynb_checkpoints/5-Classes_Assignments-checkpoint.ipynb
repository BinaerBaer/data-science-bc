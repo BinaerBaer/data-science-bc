{
 "cells": [
  {
   "cell_type": "markdown",
   "metadata": {},
   "source": [
    "# Instructions\n",
    "\n",
    "Today we're going to be taking a look at classes, and the OOP paradigm in general. The problems in this assignment are designed to help you develop an intuition for both why we like object oriented programming **and** when we want to use it. The first part of this assignment will revolve around taking a problem that has been solved with functions (which will be given to you) and turning it into a class. The second part will have you write a class from scratch, starting from the mindset of functions. The last part will give you a problem that has been solved with a class; however, it will be a poor choice of using OOP. Here, you'll blow up the class and move the code back into a solely functional programming paradigm. Hopefully this will give you an idea of problems that still ought to be solved with functions. \n",
    "\n",
    "## Assignment Questions\n",
    "\n",
    "### Part 1 - Functions to Class\n",
    "\n",
    "Imagine you are waiting tables. At the end of each night, you have to find all you're bills, and total the amount that you will be tipped; this will depend on what a client decided, or 18% if they didn't specify. You always end up spending an extra 10 minutes at the end of your shift calculating how much you made in tips, and as a result you decide to write a Python script to help automate the task.\n",
    "\n",
    "After a little trial and error, you come up with the functions below. The `0.18` is for the standard tip your restaurant charges if none is specified.\n",
    "\n",
    "```python\n",
    "def get_tips(bills_n_tips):\n",
    "    return [bill * tip for bill, tip in bills_n_tips]\n",
    "\n",
    "def add_bill_update_tips(new_bill, bills_n_tips, tip_rate=0.18):\n",
    "    bills_n_tips.append((new_bill, tip_rate))\n",
    "    tip_out = sum(get_tips(bills_n_tips))\n",
    "    return tip_out\n",
    "```\n",
    "\n",
    "You then test them out with the following function. Who doesn't like well tested code??\n",
    "\n",
    "```python\n",
    "def test_tip_out():\n",
    "    waiter_bills_n_tips = []\n",
    "    print (add_bill_update_tips(58.90, waiter_bills_n_tips, 0.15))\n",
    "    print (add_bill_update_tips(31.58, waiter_bills_n_tips))\n",
    "    print (add_bill_update_tips(81.44, waiter_bills_n_tips, 0.20))\n",
    "    print (get_tips(waiter_bills_n_tips))\n",
    "    print (len(waiter_bills_n_tips))\n",
    "```\n",
    "\n",
    "As everything appears to be working, you happily go to work and keep track of your tips. Everything works out, as expected. After all, you did your due diligence and tested your code. However, running the same function over and over (and having to make sure that you we're passing the correct things to your function while you were trying to work) quickly becomes a burden. In addition, some of your coworkers see what you were doing and want to try your code next time you work. You wonder to yourself if there is a simpler way to implement a solution to this problem, one where anyone could easily and intuitively use the program your wrote.\n",
    "\n",
    "Luckily, you learned about classes in Python recently and realize that this is a great situation to employ them! The first thing you do is sit down and think about how you'd want to use a class in this scenario. You want a class that allows you to track and get information about the status of your tips. Here's an example usage of the class you're going to build:\n",
    "\n",
    "```python\n",
    "tot = TipOutTracker(0.18)\n",
    "tot.add_bill(58.90, 0.15)\n",
    "tot.add_bill(31.58)\n",
    "print (tot.total_tip_out())\n",
    "tot.add_bill(81.44, 0.20)\n",
    "print (len(tot))\n",
    "```\n",
    "\n",
    "Here, when you get the length of your tracker, you are actually going to get the total number of bills you've served.\n",
    "\n",
    "With this in mind, your task is to take the code from the function solution of this problem and write a class `TipOutTracker`. This class will operate in the way shown above. You should be thinking about the following as you start solving this problem:\n",
    "\n",
    "* What are the attributes (data) that you are going to store on the class?\n",
    "    * What data is being abstracted away from the user of your class?\n",
    "* What are the methods (functions) that you are going to operate on the attributes with?\n",
    "    * What are the ways that a user of your class will be able to interact with the data it stores?"
   ]
  },
  {
   "cell_type": "code",
   "execution_count": 23,
   "metadata": {},
   "outputs": [],
   "source": [
    "class TipOutTracker(object):\n",
    "    \n",
    "    def __init__(self, def_tip_rate):\n",
    "        self.total_rev = [0]\n",
    "        self.def_tip_rate = def_tip_rate\n",
    "        self.total_tips = [0]\n",
    "    \n",
    "    def add_bill(self, rev, tip_rate=None):\n",
    "        self.total_rev.append(rev)\n",
    "        if tip_rate == None:\n",
    "            self.total_tips.append(rev*self.def_tip_rate)\n",
    "        else:\n",
    "            self.total_tips.append(rev*tip_rate)\n",
    "        \n",
    "    def total_tip_out(self):\n",
    "        return sum(self.total_tips)\n",
    "    \n",
    "    def __len__(self):\n",
    "        return len(self.total_tips)\n",
    "        "
   ]
  },
  {
   "cell_type": "code",
   "execution_count": 24,
   "metadata": {},
   "outputs": [
    {
     "name": "stdout",
     "output_type": "stream",
     "text": [
      "14.519399999999997\n",
      "4\n"
     ]
    }
   ],
   "source": [
    "tot = TipOutTracker(0.18)\n",
    "tot.add_bill(58.90, 0.15)\n",
    "tot.add_bill(31.58)\n",
    "print (tot.total_tip_out())\n",
    "tot.add_bill(81.44, 0.20)\n",
    "print (len(tot))"
   ]
  },
  {
   "cell_type": "markdown",
   "metadata": {},
   "source": [
    "### Part 2 - Classes from Scratch\n",
    "\n",
    "Now that you have a little bit of practice working through a problem that takes moves functions into a class, you're going to get some practice solving a problem from scratch, using OOP.\n",
    "\n",
    "This time you are going to create a class that allows you to keep track of a to-do list. The kinds of things that we'd want to be able to do with a to-do list (no pun intended) are:\n",
    "\n",
    "* Add a to-do item.\n",
    "* Mark a to-do item as completed and remove it.\n",
    "* Have the length of the to-do list return the number of items you have to do.\n",
    "\n",
    "As you work through this problem, a good place to start is by thinking about how you'd want to use this class. If you were to be given a `ToDoList` class, how would you want to use it? Go ahead and write up a test case where you \"use\" the class that you're about to write. This will help get you into the mindset of how the class will actually work.\n",
    "\n",
    "With that in mind, you're going to want to answer the same questions that were posed before:\n",
    "\n",
    "* What are the attributes (data) that you are going to store on the class?\n",
    "* What are the methods (functions) that you are going to operate on the attributes with?\n",
    "\n",
    "Once you have an idea about the answers to these two questions, you'll be in a great place to start writing some code!"
   ]
  },
  {
   "cell_type": "code",
   "execution_count": 157,
   "metadata": {},
   "outputs": [],
   "source": [
    "class ToDoList(object):\n",
    "    \n",
    "    def __init__(self):\n",
    "        self.todos = dict()\n",
    "        self.prios = dict()\n",
    "        self.completed = dict()\n",
    "    \n",
    "    def __len__(self):\n",
    "        return len(self.todos)\n",
    "    \n",
    "    def add_todo(self, key, todo, prio):\n",
    "        self.todos.update({key: todo})\n",
    "        self.prios.update({key: prio})\n",
    "    \n",
    "    def cmp_todo(self, key):\n",
    "        self.completed.update({key: self.todos[key]})\n",
    "        del self.todos[key]\n",
    "        del self.prios[key]\n",
    "        \n",
    "    def __str__(self):\n",
    "        msg = ''\n",
    "        for key in self.todos.keys():\n",
    "            msg += (\"ToDo: {0:15} \\n\\tDescr: {1:40} \\n\\tPrio: {2:6}\\n\".format(key, self.todos[key], self.prios[key]))\n",
    "        return msg"
   ]
  },
  {
   "cell_type": "code",
   "execution_count": 158,
   "metadata": {},
   "outputs": [],
   "source": [
    "tdlist = ToDoList()\n",
    "tdlist.add_todo('Aufräumen', 'Kühlschrank auswischen, Klo putzen, Klamotten waschen, Zeug wegräumen', 'medium')"
   ]
  },
  {
   "cell_type": "code",
   "execution_count": 159,
   "metadata": {},
   "outputs": [],
   "source": [
    "tdlist.add_todo('Auto verkaufen', 'Fotos machen, ebay kleinanzeigen Anzeige starten', 'high')"
   ]
  },
  {
   "cell_type": "code",
   "execution_count": 160,
   "metadata": {},
   "outputs": [],
   "source": [
    "tdlist.add_todo('Fortbildung', 'Data Science coding bootcamp abschließen', 'high')"
   ]
  },
  {
   "cell_type": "code",
   "execution_count": 161,
   "metadata": {},
   "outputs": [],
   "source": [
    "tdlist.add_todo('Hotel buchen', 'Hotel für Maltes Hochzeit buchen (06.06.-08.06.)', 'high')"
   ]
  },
  {
   "cell_type": "code",
   "execution_count": 162,
   "metadata": {},
   "outputs": [
    {
     "name": "stdout",
     "output_type": "stream",
     "text": [
      "ToDo: Aufräumen       \n",
      "\tDescr: Kühlschrank auswischen, Klo putzen, Klamotten waschen, Zeug wegräumen \n",
      "\tPrio: medium\n",
      "ToDo: Auto verkaufen  \n",
      "\tDescr: Fotos machen, ebay kleinanzeigen Anzeige starten \n",
      "\tPrio: high  \n",
      "ToDo: Fortbildung     \n",
      "\tDescr: Data Science coding bootcamp abschließen \n",
      "\tPrio: high  \n",
      "ToDo: Hotel buchen    \n",
      "\tDescr: Hotel für Maltes Hochzeit buchen (06.06.-08.06.) \n",
      "\tPrio: high  \n",
      "\n"
     ]
    }
   ],
   "source": [
    "print(tdlist)"
   ]
  },
  {
   "cell_type": "code",
   "execution_count": 163,
   "metadata": {},
   "outputs": [
    {
     "data": {
      "text/plain": [
       "4"
      ]
     },
     "execution_count": 163,
     "metadata": {},
     "output_type": "execute_result"
    }
   ],
   "source": [
    "len(tdlist)"
   ]
  },
  {
   "cell_type": "code",
   "execution_count": 164,
   "metadata": {},
   "outputs": [
    {
     "name": "stdout",
     "output_type": "stream",
     "text": [
      "ToDo: Aufräumen       \n",
      "\tDescr: Kühlschrank auswischen, Klo putzen, Klamotten waschen, Zeug wegräumen \n",
      "\tPrio: medium\n",
      "ToDo: Auto verkaufen  \n",
      "\tDescr: Fotos machen, ebay kleinanzeigen Anzeige starten \n",
      "\tPrio: high  \n",
      "ToDo: Fortbildung     \n",
      "\tDescr: Data Science coding bootcamp abschließen \n",
      "\tPrio: high  \n",
      "\n"
     ]
    }
   ],
   "source": [
    "tdlist.cmp_todo('Hotel buchen')\n",
    "print(tdlist)"
   ]
  },
  {
   "cell_type": "markdown",
   "metadata": {},
   "source": [
    "### Part 3 - Times Not to Use Classes\n",
    "\n",
    "One thing that should be addressed while you are learning about OOP is that the use of a class is not appropriate for solving every problem. To illustrate this point, consider the following code, and it's test in the main block.\n",
    "\n",
    "```python\n",
    "class BookWordCounter():\n",
    "    def __init__(self, book_path):\n",
    "        self.book_path = book_path\n",
    "        self.has_counted = False\n",
    "        self.num_words = 0\n",
    "\n",
    "    def count_words(self):\n",
    "        with open(self.book_path) as book:\n",
    "            for line in book:\n",
    "                self.num_words += len(line.split())\n",
    "\n",
    "    def num_words_in_book(self):\n",
    "        if not self.has_counted:\n",
    "            self.count_words()\n",
    "        return self.num_words\n",
    "\n",
    "if __name__ == '__main__':\n",
    "    flat_land_counter = BookWordCounter('misc/books/flatland.txt')\n",
    "    print(flat_land_counter.num_words_in_book())\n",
    "    programming_lang_counter = BookWordCounter('misc/books/programming_languages.txt')\n",
    "    print(programming_lang_counter.num_words_in_book())\n",
    "```\n",
    "\n",
    "Now ask yourself:\n",
    "* Is encapsulation being taken advantage of when using this class? \n",
    "* Is there data that is being stored on the class as an attribute?\n",
    "    * Is it changing? \n",
    "* Does calling methods on the class allow me to interact with that data?\n",
    "* Could this be done with a function???\n",
    "\n",
    "Try writing a function to solve the same problem that the `BookWordCounter` class solves. Consider how you would want to use that function. Feel free to tear apart the code in `BookWordCounter` when you're making your function(s).\n",
    "\n",
    "Once your done, consider the pros and cons of solving this problem with a class vs functions. This is an important consideration to make now that you know about the power of both paradigms."
   ]
  },
  {
   "cell_type": "code",
   "execution_count": null,
   "metadata": {},
   "outputs": [],
   "source": []
  },
  {
   "cell_type": "markdown",
   "metadata": {},
   "source": [
    "### Extra Credit\n",
    "\n",
    "1. What happens if the coworkers that you give your `TipOutTracker` to accidentally make two instances of the class when they are tracking their tips one night. How could you make it so you can add two `TipOutTracker` instances?\n",
    "\n",
    "2. Add a list of completed to-do items to the `ToDoList` class. Then, write a method that moves an item from the to-do list to the completed list when you mark it completed. \n",
    "\n",
    "3. Print all of your current to-do items in a pretty way when you pass an instance of the `ToDoList`\n",
    "\n",
    "4. Add priority to the to-do list items, and have these priorities change the way your items are displayed."
   ]
  },
  {
   "cell_type": "code",
   "execution_count": null,
   "metadata": {
    "collapsed": true
   },
   "outputs": [],
   "source": []
  }
 ],
 "metadata": {
  "kernelspec": {
   "display_name": "Python 3",
   "language": "python",
   "name": "python3"
  },
  "language_info": {
   "codemirror_mode": {
    "name": "ipython",
    "version": 3
   },
   "file_extension": ".py",
   "mimetype": "text/x-python",
   "name": "python",
   "nbconvert_exporter": "python",
   "pygments_lexer": "ipython3",
   "version": "3.6.10"
  },
  "toc": {
   "base_numbering": 1,
   "nav_menu": {},
   "number_sections": true,
   "sideBar": true,
   "skip_h1_title": false,
   "title_cell": "Table of Contents",
   "title_sidebar": "Contents",
   "toc_cell": false,
   "toc_position": {},
   "toc_section_display": true,
   "toc_window_display": false
  },
  "varInspector": {
   "cols": {
    "lenName": 16,
    "lenType": 16,
    "lenVar": 40
   },
   "kernels_config": {
    "python": {
     "delete_cmd_postfix": "",
     "delete_cmd_prefix": "del ",
     "library": "var_list.py",
     "varRefreshCmd": "print(var_dic_list())"
    },
    "r": {
     "delete_cmd_postfix": ") ",
     "delete_cmd_prefix": "rm(",
     "library": "var_list.r",
     "varRefreshCmd": "cat(var_dic_list()) "
    }
   },
   "types_to_exclude": [
    "module",
    "function",
    "builtin_function_or_method",
    "instance",
    "_Feature"
   ],
   "window_display": false
  }
 },
 "nbformat": 4,
 "nbformat_minor": 2
}
