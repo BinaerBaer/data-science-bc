{
 "cells": [
  {
   "cell_type": "code",
   "execution_count": null,
   "metadata": {},
   "outputs": [],
   "source": [
    "## init of class\n",
    "# create empty board\n",
    "\n",
    "## function start_game(optional move_list, optional preload board)\n",
    "# reset board\n",
    "# create empty board\n",
    "# print the empty borad\n",
    "## main loop\n",
    "    # start the game in while loop until end of game condtion\n",
    "    # --- end cond. exit command or win/tie of game\n",
    "    # calc ID based on turn\n",
    "    # set player id('X' or 'O') ( turn number calc)\n",
    "    # call askPlayer(id)\n",
    "    # print_borad\n",
    "    # call CheckWin\n",
    "    # catch Tie condtion ( no win no turns left)\n",
    "    # turn+1\n",
    "  \n",
    " # anounce winner or Tie\n",
    "  # end game\n",
    "    \n",
    "    \n",
    "# function askPlayer(ID,)\n",
    "    ## loop until valid input\n",
    "    # ask player(id) comes as string (keyboard input)\n",
    "    # check if input is valid if not ask again\n",
    "    # input cast (type change str to int) \n",
    "    # check postion valid possible (call check_postion_valid)\n",
    "    ## if not valid ask player(id) again\n",
    "    \n",
    "# function check_postion_valid_and_set(tuble_position, player_symbol)\n",
    "    # is tuple exist - True\n",
    "    ## and set field\n",
    "    # is a str - False\n",
    "    # is outsite of field\n",
    "    \n",
    "    \n",
    "# function check_win( id)\n",
    "    # --- return win = True\n",
    "    # --- check only for id of player\n",
    "    # row wise\n",
    "    # col wise\n",
    "    # cross wise\n"
   ]
  },
  {
   "cell_type": "code",
   "execution_count": 13,
   "metadata": {},
   "outputs": [],
   "source": [
    "#%conda install mock"
   ]
  },
  {
   "cell_type": "code",
   "execution_count": null,
   "metadata": {},
   "outputs": [],
   "source": [
    "# this can be written simpler as a generator expression like this:\n",
    "\n",
    "trays = (tray for tray in [\"1\", \"5\", \"7\"])\n",
    "rooms = (room for room in [\"112\", \"543\", \"724\"])\n",
    "\n",
    "\n",
    "\n",
    "def mock_input(prompt):\n",
    "    if \"room\" in prompt.lower():\n",
    "        return next(rooms)\n",
    "    if \"tray\" in prompt.lower():\n",
    "        return next(trays)\n",
    "\n",
    "# this can now be used to replace the `input()` function\n",
    "\n",
    "with mock.patch('builtins.input', mock_input):\n",
    "    i = 0\n",
    "    while i < 5:\n",
    "        x = input('tray')\n",
    "        y = input('room')\n",
    "        print(x, y)\n",
    "        i += 1"
   ]
  },
  {
   "cell_type": "code",
   "execution_count": null,
   "metadata": {},
   "outputs": [],
   "source": []
  },
  {
   "cell_type": "code",
   "execution_count": null,
   "metadata": {},
   "outputs": [],
   "source": []
  }
 ],
 "metadata": {
  "kernelspec": {
   "display_name": "Python [conda env:nf] *",
   "language": "python",
   "name": "conda-env-nf-py"
  },
  "language_info": {
   "codemirror_mode": {
    "name": "ipython",
    "version": 3
   },
   "file_extension": ".py",
   "mimetype": "text/x-python",
   "name": "python",
   "nbconvert_exporter": "python",
   "pygments_lexer": "ipython3",
   "version": "3.6.10"
  }
 },
 "nbformat": 4,
 "nbformat_minor": 4
}
